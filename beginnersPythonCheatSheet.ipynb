{
  "nbformat": 4,
  "nbformat_minor": 0,
  "metadata": {
    "colab": {
      "name": "beginnersPythonCheatSheet.ipynb",
      "provenance": [],
      "collapsed_sections": [],
      "toc_visible": true
    },
    "kernelspec": {
      "name": "python3",
      "display_name": "Python 3"
    }
  },
  "cells": [
    {
      "cell_type": "markdown",
      "metadata": {
        "id": "gLNrmNiKvQ-s"
      },
      "source": [
        "#Beginner's Python Cheat Sheet\n",
        "\n",
        "This is a good link on Github I (Hossein Mokhtarzadeh @hmok) am practicing and sharing it on Google Colab\n",
        "\n",
        "https://ehmatthes.github.io/pcc/cheatsheets/README.html\n",
        "\n",
        "http://nostarchpress.com/pythoncrashcourse\n",
        "\n",
        "I have seen others have done similar things but not maybe all in one notebook.\n",
        "https://github.com/sujee81/Python-Cheat-Sheet\n",
        "\n",
        "Check these 28 Jupyter Notebook Tips, Tricks, and Shortcuts:\n",
        "https://www.dataquest.io/blog/jupyter-notebook-tips-tricks-shortcuts/\n",
        "\n",
        "Enjoy learning!"
      ]
    },
    {
      "cell_type": "markdown",
      "metadata": {
        "id": "JbuMvi3gvoZx"
      },
      "source": [
        "#Variables and Strings\n",
        "\n",
        "Variables are used to store values. A string is a series of\n",
        "characters, surrounded by single or double quotes"
      ]
    },
    {
      "cell_type": "markdown",
      "metadata": {
        "id": "54GPsnNsvtGx"
      },
      "source": [
        "#Hello World"
      ]
    },
    {
      "cell_type": "code",
      "metadata": {
        "id": "s6I9CyHRvnth"
      },
      "source": [
        "print('Hello World!')\n",
        "print(\"Hello World!\") # both are correct"
      ],
      "execution_count": null,
      "outputs": []
    },
    {
      "cell_type": "markdown",
      "metadata": {
        "id": "M7M8-tVTv5zR"
      },
      "source": [
        "#Hello world with a variable"
      ]
    },
    {
      "cell_type": "code",
      "metadata": {
        "id": "3S7FJ_MIvNH-"
      },
      "source": [
        "msg = \"Hello world!\"\n",
        "print(msg)"
      ],
      "execution_count": null,
      "outputs": []
    },
    {
      "cell_type": "markdown",
      "metadata": {
        "id": "T2r6BVrl8AOp"
      },
      "source": [
        "#Concatenation (combining strings)"
      ]
    },
    {
      "cell_type": "code",
      "metadata": {
        "id": "gnPMeEir8Bma"
      },
      "source": [
        "first_name = 'albert'\n",
        "last_name = 'einstein'\n",
        "full_name = first_name + ' ' + last_name\n",
        "print(full_name)"
      ],
      "execution_count": null,
      "outputs": []
    },
    {
      "cell_type": "markdown",
      "metadata": {
        "id": "2bSvHrSq8Gwu"
      },
      "source": [
        "# Lists\n",
        "A list stores a series of items in a particular order. You\n",
        "access items using an index, or within a loop."
      ]
    },
    {
      "cell_type": "code",
      "metadata": {
        "id": "2dRoQeDE8IQp"
      },
      "source": [
        "# Make a list\n",
        "bikes = ['trek', 'redline', 'giant']\n",
        "\n",
        "# Get the first item in a list\n",
        "first_bike = bikes[0]\n",
        "\n",
        "# Get the last item in a list\n",
        "last_bike = bikes[-1]\n",
        "\n",
        "# Looping through a list\n",
        "for bike in bikes:\n",
        "    print(bike)\n",
        "    \n",
        "# Adding items to a list\n",
        "bikes = []\n",
        "bikes.append('trek')\n",
        "bikes.append('redline')\n",
        "bikes.append('giant')\n",
        "\n",
        "# Making numerical lists\n",
        "squares = []\n",
        "for x in range(1,11):\n",
        "    squares.append(x**2)\n",
        "squares\n",
        "\n",
        "# List cont.\n",
        "#  List comprehensions\n",
        "squares = [x**2 for x in range(1,11)]\n",
        "\n",
        "#slicing a list\n",
        "finishers = ['sam', 'bob', 'ada', 'bea']\n",
        "first_two = finishers[0:2] #or first_two = finishers[:2] \n",
        "\n",
        "#  Copying a list\n",
        "copy_of_bikes = bikes.copy() #or copy_of_bikes = bikes[:]\n",
        "\n",
        "# Wanna learn more about *args and **kwargs see this below:\n",
        "# https://www.geeksforgeeks.org/args-kwargs-python/"
      ],
      "execution_count": null,
      "outputs": []
    },
    {
      "cell_type": "markdown",
      "metadata": {
        "id": "oT_88LyP9lKS"
      },
      "source": [
        "# Tuples\n",
        "Tuples are similar to lists, but the items in a tuple cannot be modified"
      ]
    },
    {
      "cell_type": "code",
      "metadata": {
        "id": "wd_2lvhE9j8M",
        "outputId": "1d4c4b77-5a06-4294-80dc-d8d480932734",
        "colab": {
          "base_uri": "https://localhost:8080/",
          "height": 34
        }
      },
      "source": [
        "# making a tuple\n",
        "dimensions = (1920, 1080)\n",
        "squares = [x**2 for x in range(10)]\n",
        "squares\n"
      ],
      "execution_count": null,
      "outputs": [
        {
          "output_type": "execute_result",
          "data": {
            "text/plain": [
              "[0, 1, 4, 9, 16, 25, 36, 49, 64, 81]"
            ]
          },
          "metadata": {
            "tags": []
          },
          "execution_count": 1
        }
      ]
    },
    {
      "cell_type": "markdown",
      "metadata": {
        "id": "LqnxaWc69ziH"
      },
      "source": [
        "# If statements \n",
        "If statements are used to test for particular conditions and\n",
        "respond appropriately.\n"
      ]
    },
    {
      "cell_type": "code",
      "metadata": {
        "id": "r2LTAlVX9cTe"
      },
      "source": [
        "# Conditional tests\n",
        "x == 42 # equals\n",
        "x != 42 #not equal \n",
        "x > 42 #greater than \n",
        "x >= 42 #or equal to\n",
        "x < 42 #less than \n",
        "x <= 42 #or equal to\n",
        "x\n",
        "# Conditional test with lists\n",
        "'trek' in bikes\n",
        "'surly' not in bikes\n",
        "\n",
        "# Assigning boolean values\n",
        "game_active = True\n",
        "can_edit = False\n",
        "\n",
        "# A simple if test\n",
        "age=24\n",
        "if age>=18:\n",
        "    print('You can vote')\n",
        "\n",
        "#     If-elif-else statements\n",
        "ticket_price = 20\n",
        "if age < 4:\n",
        " ticket_price = 0\n",
        "elif age < 18:\n",
        " ticket_price = 10\n",
        "else:\n",
        " ticket_price = 15\n"
      ],
      "execution_count": null,
      "outputs": []
    },
    {
      "cell_type": "markdown",
      "metadata": {
        "id": "hN0qKSjkBYeb"
      },
      "source": [
        "# Dictionaries \n",
        "\n",
        "Dictionaries store connections between pieces of\n",
        "information. Each item in a dictionary is a key-value pair.\n",
        "\n",
        "<!--  -->\n",
        "<!--  -->"
      ]
    },
    {
      "cell_type": "code",
      "metadata": {
        "id": "1rtUg1GL-QL5",
        "outputId": "c6a0a4f3-3560-4980-8412-c55e28effcac",
        "colab": {
          "base_uri": "https://localhost:8080/",
          "height": 69
        }
      },
      "source": [
        "# A Simple dictionary (key, value paires) or items={key: value, ...}\n",
        "alien = {'color': 'green', 'points': 5}\n",
        "\n",
        "# Access a value\n",
        "print(\"The alien's color is\" + alien['color'])\n",
        "\n",
        "# Addeing a new key-vale pair\n",
        "\n",
        "alien['x_positon'] = 0\n",
        "alien\n",
        "# Loopoing through all key-value pairs\n",
        "\n",
        "for key in alien:\n",
        "    print(key)\n",
        "  \n",
        "fav_numbers = {'eric': 17, 'ever': 4}\n",
        "for name, number in fav_numbers.items():\n",
        "    print(name + ' loves ' + str(number))\n",
        "    \n",
        "#   Looping through all keys\n",
        "for name in fav_numbers.keys():\n",
        "    print(name + ' loves a number')\n",
        "    \n",
        "#   Looping through all values\n",
        "for number in fav_numbers.values():\n",
        "    print(str(number) + ' is a favorite')\n",
        "    \n"
      ],
      "execution_count": null,
      "outputs": [
        {
          "output_type": "stream",
          "text": [
            "color\n",
            "points\n",
            "x_positon\n"
          ],
          "name": "stdout"
        }
      ]
    },
    {
      "cell_type": "markdown",
      "metadata": {
        "id": "oPI9urJBDtAX"
      },
      "source": [
        "# User input\n",
        "Your programs can prompt the user for input. All input is\n",
        "stored as a string."
      ]
    },
    {
      "cell_type": "code",
      "metadata": {
        "id": "Ug_50AdxDw1O"
      },
      "source": [
        "# Prompting for value\n",
        "name = input('what is your name?')\n",
        "print('Hello, ' + name + '!')\n",
        "\n",
        "# Prompting for for numerical input\n",
        "age = input('How old are you?')\n",
        "age = int(age)\n",
        "\n",
        "pi = input('what is  the value of pi?')\n",
        "pi = float(pi)\n",
        "print(pi)"
      ],
      "execution_count": null,
      "outputs": []
    },
    {
      "cell_type": "markdown",
      "metadata": {
        "id": "kS07gVA_EkNM"
      },
      "source": [
        "# While loops\n",
        "A while loop repeats a block of code as long as a certain\n",
        "condition is true.\n"
      ]
    },
    {
      "cell_type": "code",
      "metadata": {
        "id": "ugoi2KVqEu4E"
      },
      "source": [
        "# A simple while loop\n",
        "current_value = 1\n",
        "while current_value <= 5:\n",
        "    print(current_value)\n",
        "    current_value +=1\n",
        "\n",
        "  # Letting the user choose when to quit\n",
        "msg = ''\n",
        "while msg !='quit':\n",
        "    msg = input('what is your message?')\n",
        "    print(msg)\n",
        "    \n"
      ],
      "execution_count": null,
      "outputs": []
    },
    {
      "cell_type": "markdown",
      "metadata": {
        "id": "fOR4wxx_FP2j"
      },
      "source": [
        "# Functions\n",
        "Functions are named blocks of code, designed to do one\n",
        "specific job. Information passed to a function is called an\n",
        "argument, and information received by a function is called a\n",
        "parameter"
      ]
    },
    {
      "cell_type": "code",
      "metadata": {
        "id": "QQobuOA4FTXc",
        "outputId": "b0ef6fa4-c871-4895-e04d-1212931650e3",
        "colab": {
          "base_uri": "https://localhost:8080/",
          "height": 69
        }
      },
      "source": [
        "#  A simplefunction\n",
        "def greet_user():\n",
        "    \"\"\"Display a simple greeting\"\"\"\n",
        "    print('Hello!')\n",
        "\n",
        "greet_user()\n",
        "greet_user.__doc__ # the comment above between \"\"\"doc\"\"\"\n",
        "\n",
        "\n",
        "# passing an argument\n",
        "def greet_user(username):\n",
        "    \"\"\"Display a personlized greeting greeting\"\"\"\n",
        "    print(\"Hello, \" + username + \"!\")\n",
        "    \n",
        "greet_user('Jesse')\n",
        "\n",
        "# Default values for parameters\n",
        "def make_pizza(topping='bacon'):\n",
        "    \"\"\"Make a single-topping pizza.\"\"\"\n",
        "    print(\"Have a \" + topping + \" pizza!\")\n",
        "    \n",
        "make_pizza()\n",
        "make_pizza('pepperroni')\n",
        "\n",
        "# Returning a value\n",
        "def add_numbers(x,y):\n",
        "    \"\"\"Add two numbers and return the sum\"\"\"\n",
        "    return x + y\n",
        "  \n",
        "sum = add_numbers(3,4)\n",
        "print(sum)\n",
        "\n"
      ],
      "execution_count": null,
      "outputs": [
        {
          "output_type": "stream",
          "text": [
            "Have a bacon pizza!\n",
            "Have a pepperroni pizza!\n",
            "7\n"
          ],
          "name": "stdout"
        }
      ]
    },
    {
      "cell_type": "markdown",
      "metadata": {
        "id": "O1oPM0K6G3F9"
      },
      "source": [
        "# Classes\n",
        "A class defines the behavior of an object and the kind of\n",
        "information an object can store. The information in a class\n",
        "is stored in attributes, and functions that belong to a class\n",
        "are called methods. A child class inherits the attributes and\n",
        "methods from its parent class."
      ]
    },
    {
      "cell_type": "code",
      "metadata": {
        "id": "Pl1J0_FRG9PS",
        "outputId": "429acad5-e1ff-4d22-870c-337355fc680f",
        "colab": {
          "base_uri": "https://localhost:8080/",
          "height": 69
        }
      },
      "source": [
        "# Creating a dog class\n",
        "class Dog():\n",
        "  \"\"\"Represent a dog\"\"\"\n",
        "  \n",
        "  def __init__(self, name):\n",
        "      \"\"\"Initialize dog object\"\"\"\n",
        "      self.name = name\n",
        "      \n",
        "  def sit(self):\n",
        "      \"\"\"Simulate sitting\"\"\"\n",
        "      print(self.name + \" is sitting.\")\n",
        "      \n",
        "#how to use Dog(name) e.g. Dog('Peso')\n",
        "my_dog = Dog('Peso')    \n",
        "\n",
        "print(my_dog.name + \" is a great dog!\")\n",
        "my_dog.sit()\n",
        "\n",
        "# Inheritance\n",
        "\n",
        "class SARDog(Dog):\n",
        "    \"\"\"represent a search dog.\"\"\"\n",
        "  \n",
        "    def __init__(self, name):\n",
        "        \"\"\"Initialize the sardog\"\"\"\n",
        "        super().__init__(name)\n",
        "        \n",
        "    def search(self):\n",
        "        \"\"\"Simulate searching.\"\"\"\n",
        "        print(self.name + \" is searching\")\n",
        "        \n",
        "my_dog = SARDog('Willie')\n",
        "\n",
        "print(my_dog.name + \"is a search dog.\")\n",
        "my_dog.sit()\n",
        "my_dog.search()"
      ],
      "execution_count": null,
      "outputs": [
        {
          "output_type": "stream",
          "text": [
            "Willieis a search dog.\n",
            "Willie is sitting.\n",
            "Willie is searching\n"
          ],
          "name": "stdout"
        }
      ]
    },
    {
      "cell_type": "markdown",
      "metadata": {
        "id": "T25kIrPDKUQN"
      },
      "source": [
        "# Infinite Skills\n",
        "\n",
        "If you had inifite programing skills, what would you build?\n",
        "\n",
        "As you're learning to program, it's helpful to think\n",
        "about the real-world projects you'd like to create. It's\n",
        "a good habit to keep an \"ideas\" notebook that you\n",
        "can refer to whenever you want to start a new project.\n",
        "If you haven't done so already, take a few minutes\n",
        "and describe three projects you'd like to create.\n"
      ]
    },
    {
      "cell_type": "markdown",
      "metadata": {
        "id": "7EesJJKDLTxN"
      },
      "source": [
        "# Working with files\n",
        "Your programs can read from files and write to files. Files\n",
        "are opened in read mode ('r') by default, but can also be\n",
        "opened in write mode ('w') and append mode ('a')."
      ]
    },
    {
      "cell_type": "code",
      "metadata": {
        "id": "gueQCJxNHnbm"
      },
      "source": [
        "# Create a file txt file\n",
        "fh = open('demo.txt','w')\n",
        "for i in range(10):\n",
        "    fh.write(\"this is the line no %d\\n\" % i)\n",
        "\n",
        "fh.close()\n",
        "\n",
        "# Reading a file and storing its lines\n",
        "\n",
        "filename = 'demo.txt' #'sidedhartha.txt'\n",
        "\n",
        "with open(filename) as file_object:\n",
        "    lines = file_object.readlines()\n",
        "    \n",
        "for line in lines:\n",
        "   print(line)\n",
        "    \n",
        "    \n",
        "# Writing to a file\n",
        "filename = 'journal.txt'\n",
        "with open(filename, 'w') as file_object:\n",
        "    file_object.write(\"I love programing.\")\n",
        "    \n",
        "#Appending to a file\n",
        "filename = 'journal.txt'\n",
        "with open(filename, 'a') as file_object:\n",
        "    file_object.write(\"\\nI love making games\")\n",
        "      "
      ],
      "execution_count": null,
      "outputs": []
    },
    {
      "cell_type": "markdown",
      "metadata": {
        "id": "PijT-u_BPKM9"
      },
      "source": [
        "# Exceptions\n",
        "Exceptions help you respond appropriately to errors that\n",
        "are likely to occur. You place code that might cause an\n",
        "error in the try block. Code that should run in response to\n",
        "an error goes in the except block. Code that should run only\n",
        "if the try block was successful goes in the else block."
      ]
    },
    {
      "cell_type": "code",
      "metadata": {
        "id": "uePsk4piPR9k",
        "outputId": "1ecdf159-86b2-4efc-f5b4-d1f9f4701527",
        "colab": {
          "base_uri": "https://localhost:8080/",
          "height": 34
        }
      },
      "source": [
        "#Catching an exception\n",
        "prompt = \"How many tickets do you need? \"\n",
        "num_tickets = input(prompt)\n",
        "\n",
        "try:\n",
        "    num_tickets = int(num_tickets)\n",
        "except ValueError:\n",
        "    print(\"Please try again.\")\n",
        "else: \n",
        "    print(\"Your tickers are printing.\")"
      ],
      "execution_count": null,
      "outputs": [
        {
          "output_type": "execute_result",
          "data": {
            "text/plain": [
              "9"
            ]
          },
          "metadata": {
            "tags": []
          },
          "execution_count": 18
        }
      ]
    },
    {
      "cell_type": "markdown",
      "metadata": {
        "id": "QGnDYloxPz4x"
      },
      "source": [
        "# Zen of Python\n",
        "Simple is better than complex\n",
        "\n",
        "If you have a choice between a simple and a complex\n",
        "solution, and both work, use the simple solution. Your\n",
        "code will be easier to maintain, and it will be easier\n",
        "for you and others to build on that code later on."
      ]
    },
    {
      "cell_type": "markdown",
      "metadata": {
        "id": "kpy2heyVijhb"
      },
      "source": [
        "# what are lists?\n",
        "\n",
        "A list stores a series of items in a particular order.\n",
        "Lists allow you to store sets of information in one\n",
        "place, whether you have just a few items or millions\n",
        "of items. Lists are one of Python's most powerful\n",
        "features readily accessible to new programmers, and\n",
        "they tie together many important concepts in\n",
        "programming.\n",
        "\n",
        "Defining a list\n",
        "\n",
        "Use square brackets to define a list, and use commas to\n",
        "separate individual items in the list. Use plural names for\n",
        "lists, to make your code easier to read. "
      ]
    },
    {
      "cell_type": "code",
      "metadata": {
        "id": "WJcxaLTuP4Q7"
      },
      "source": [
        "#making a list\n",
        "users = ['val','bob','mia','ron','ned']\n"
      ],
      "execution_count": null,
      "outputs": []
    },
    {
      "cell_type": "markdown",
      "metadata": {
        "id": "mJeqcteEi5Y7"
      },
      "source": [
        "# Accessing elements\n",
        "Individual elements in a list are accessed according to their\n",
        "position, called the index. The index of the first element is\n",
        "0, the index of the second element is 1, and so forth.\n",
        "Negative indices refer to items at the end of the list. To get\n",
        "a particular element, write the name of the list and then the\n",
        "index of the element in square brackets."
      ]
    },
    {
      "cell_type": "code",
      "metadata": {
        "id": "AH_brKpVi_rB"
      },
      "source": [
        "#Getting gthe first element\n",
        "first_element = users[0]\n",
        "#Getting gthe second element\n",
        "first_element = users[1]\n",
        "#Getting gthe last element\n",
        "first_element = users[-1]"
      ],
      "execution_count": null,
      "outputs": []
    },
    {
      "cell_type": "markdown",
      "metadata": {
        "id": "iAaOhhYsjJGp"
      },
      "source": [
        "# Modifying individual items\n",
        "Once you have defined a list, you can change individual elements in the list (but not in tuple). you do this by referring to the index of the item you want to modify.\n"
      ]
    },
    {
      "cell_type": "code",
      "metadata": {
        "id": "99ZlhREGjU12"
      },
      "source": [
        "# Changing an element\n",
        "users[0] = 'valerie'\n",
        "users[-2] = 'ronald'"
      ],
      "execution_count": null,
      "outputs": []
    },
    {
      "cell_type": "markdown",
      "metadata": {
        "id": "IWE37lqzjiEq"
      },
      "source": [
        "#Adding elements\n",
        "You can add elements to the endof a list, or you can insert them wherever you like in a list."
      ]
    },
    {
      "cell_type": "code",
      "metadata": {
        "id": "hKuyHLskjqbt"
      },
      "source": [
        "# Adding an element to the end of the list\n",
        "users.append('Amy')\n",
        "\n",
        "# Starting with an empty list (rememebr ctrl+? will do # haha good shortcut)\n",
        "\n",
        "users = []\n",
        "users.append('val')\n",
        "users.append('bob')\n",
        "users.append('mia')\n",
        "users\n",
        "# Inserting elements at a particualr position\n",
        "users.insert(0, 'joe')\n",
        "users.insert(3, 'bea')\n"
      ],
      "execution_count": null,
      "outputs": []
    },
    {
      "cell_type": "markdown",
      "metadata": {
        "id": "d7V5svTekWEa"
      },
      "source": [
        "# Removing elements\n",
        "You can remove elements by their position in a list. or by the value of the item. If you remove an item by its value, Python removes only the first item that has that value."
      ]
    },
    {
      "cell_type": "code",
      "metadata": {
        "id": "ObwrhwuWkkhh"
      },
      "source": [
        "# Deleting an element by its position\n",
        "del users[-1]\n",
        "users.remove('bea') #users.remove('mia') will show ValueError "
      ],
      "execution_count": null,
      "outputs": []
    },
    {
      "cell_type": "markdown",
      "metadata": {
        "id": "pjFbXj3rlBDu"
      },
      "source": [
        "# Poping elements\n",
        "If you want towork with an element that you are removing from the list, you can 'pop' the elemetn. If you think of the list as a stack of items, pop() takes an item off the top of the stack. by default pop() returns the last element in the list, but you can also pop elements from any position in the list."
      ]
    },
    {
      "cell_type": "code",
      "metadata": {
        "id": "8xx5f1b-lef5"
      },
      "source": [
        "#pop the last item from a list\n",
        "\n",
        "most_recent_user = users.pop()\n",
        "print(most_recent_user)\n",
        "\n",
        "# pop the first item in a list\n",
        "first_user = users.pop(0)\n",
        "print(first_user)\n"
      ],
      "execution_count": null,
      "outputs": []
    },
    {
      "cell_type": "markdown",
      "metadata": {
        "id": "RrJcVUB3lX8J"
      },
      "source": [
        "#List Length\n",
        "The len() function returns the number of iterms in a list"
      ]
    },
    {
      "cell_type": "code",
      "metadata": {
        "id": "cD-lZ4Xfl9ea"
      },
      "source": [
        "# Find the length of a list\n",
        "num_users = len(users)\n",
        "print(\"We have \" + str(num_users) + \" users.\" )"
      ],
      "execution_count": null,
      "outputs": []
    },
    {
      "cell_type": "markdown",
      "metadata": {
        "id": "_79RJhvTmkMU"
      },
      "source": [
        "# Sorting a list\n",
        "\n",
        "The sort() method changes the order of a list permanently.\n",
        "The sorted() function returns a copy of the list, leaving the\n",
        "original list unchanged. You can sort the items in a list in\n",
        "alphabetical order, or reverse alphabetical order. You can\n",
        "also reverse the original order of the list. Keep in mind that\n",
        "lowercase and uppercase letters may affect the sort order.\n"
      ]
    },
    {
      "cell_type": "code",
      "metadata": {
        "id": "3vH8REeRmsS6"
      },
      "source": [
        "#  Sorting a list permanetly\n",
        "users.sort()\n",
        "users.append('AHA')\n",
        "\n",
        "# Sorting a list permanetly in reverse alphabetical order\n",
        "users.sort(reverse=True)\n",
        "\n",
        "# Sorting a list tempporarily\n",
        "\n",
        "print(sorted(users))\n",
        "print(sorted(users, reverse=True))\n",
        "\n",
        "# Reversing the order of a list\n",
        "users.reverse()"
      ],
      "execution_count": null,
      "outputs": []
    },
    {
      "cell_type": "markdown",
      "metadata": {
        "id": "VPyMnoMenbHf"
      },
      "source": [
        "# Looping through a list\n",
        "Lists can contain millions of items, so Python provides an\n",
        "efficient way to loop through all the items in a list. When\n",
        "you set up a loop, Python pulls each item from the list one\n",
        "at a time and stores it in a temporary variable, which you\n",
        "provide a name for. This name should be the singular\n",
        "version of the list name.\n",
        " The indented block of code makes up the body of the\n",
        "loop, where you can work with each individual item. Any\n",
        "lines that are not indented run after the loop is completed"
      ]
    },
    {
      "cell_type": "code",
      "metadata": {
        "id": "OoN8M3rVnol4"
      },
      "source": [
        "#  Printing all items in a list\n",
        "\n",
        "for user in users:\n",
        "    print(user)\n",
        "    \n",
        "# Printing a message for each item, and a seprate message afterwards\n",
        "\n",
        "for user in users:\n",
        "    print(\"Welcome, \" + user + \"!\")\n",
        "    \n",
        "print(\"Welcome, we are glad to see you all\")\n"
      ],
      "execution_count": null,
      "outputs": []
    },
    {
      "cell_type": "markdown",
      "metadata": {
        "id": "dIUvYAkhzR4M"
      },
      "source": [
        "# The range() function\n",
        "\n",
        "You can use the range() function to work with a set of numbers efficiently. The range() function starts at 0 by default, and stops one number below the number passed to it. You can use the list() function to efficiently generate a large list of numbers\n"
      ]
    },
    {
      "cell_type": "code",
      "metadata": {
        "id": "WKn_kDwP0VFb"
      },
      "source": [
        "#  Printing the numbers 0 to 1000\n",
        "for number in range(1001):\n",
        "    print(number)\n",
        "    \n",
        "# Printing the number 1 to 1000\n",
        "for number in range(1,1001):\n",
        "    print(number)\n",
        "    \n",
        "# Making a list of numebrs from 1 to a millon\n",
        "numbers = list(range(1,10000001))\n",
        "len(numbers)\n",
        "      "
      ],
      "execution_count": null,
      "outputs": []
    },
    {
      "cell_type": "markdown",
      "metadata": {
        "id": "XHVzzTJg1RdE"
      },
      "source": [
        "# Simple Statistics\n",
        "\n",
        "There are a number of simple statistics you can run on a list containing numerical data."
      ]
    },
    {
      "cell_type": "code",
      "metadata": {
        "id": "ZkGKpeaT1Y6f"
      },
      "source": [
        "#  finding the minimum value in a list\n",
        "\n",
        "ages = [93, 99, 66, 17, 85, 1, 35, 82, 2, 77] \n",
        "youngetst  = min(ages)\n",
        "\n",
        "# Finding the maximum value\n",
        "oldest = max(ages)\n",
        "\n",
        "# Finding the sum of all value\n",
        "total_years = sum(ages)\n"
      ],
      "execution_count": null,
      "outputs": []
    },
    {
      "cell_type": "markdown",
      "metadata": {
        "id": "oOS4A1u81zvC"
      },
      "source": [
        "# Slicing a list\n",
        "You can work with any set of elements from a list. A portion of a list is called a slice. To slice a list start with the index of the first item you want, then add a colon and the index after the last item you want. Leave off the first index to start at the beginning of the list, and leave off the last index to slice through the end of the list. \n"
      ]
    },
    {
      "cell_type": "code",
      "metadata": {
        "id": "VTMqiQdz18Oi"
      },
      "source": [
        "#  Getting the first three items\n",
        "finishers = ['kai','abe','ada','gus','zoe']\n",
        "first_three = finishers[:3]\n",
        "\n",
        "#  Getting the middle three items\n",
        "middle_three = finishers[1:4]\n",
        "\n",
        "# Getting the last three items\n",
        "last_three = finishers[-3:]"
      ],
      "execution_count": null,
      "outputs": []
    },
    {
      "cell_type": "markdown",
      "metadata": {
        "id": "w9Wlg6Tf2dXU"
      },
      "source": [
        "#Copying a list\n",
        "To copy a list make a slice that starts at the first item and ends at the last item. If you try to copy a list without using this approach, whatever you do to the copied list will affect the original list as well"
      ]
    },
    {
      "cell_type": "code",
      "metadata": {
        "id": "v4kWhSaR2heD"
      },
      "source": [
        "# Making a copy of a list\n",
        "finishers = ['kai','abe','ada','gus','zoe']\n",
        "copy_of_finishers = finishers.copy() #or copy_of_finishers = finishers[:] \n",
        "\n"
      ],
      "execution_count": null,
      "outputs": []
    },
    {
      "cell_type": "markdown",
      "metadata": {
        "id": "0fuJwxvU22dU"
      },
      "source": [
        "# List comprehenstions \n",
        "You can use a loop to generate a list based on a range of numbers or on another list. This is a common operation, so Python offers a more efficient way to do it. List comprehensions may look complicated at first; if so, use the for loop approach until you're ready to start using comprehensions.     To write a comprehension, define an expression for the values you want to store in the list. Then write a for loop to generate input values needed to make the list. \n"
      ]
    },
    {
      "cell_type": "code",
      "metadata": {
        "id": "_p69iuI82_Gw"
      },
      "source": [
        "#  Using a loop to generate a list of square numbers\n",
        "squares = []\n",
        "for x in range(1,11):\n",
        "    square = x**2\n",
        "    squares.append(square)\n",
        "    \n",
        "squares"
      ],
      "execution_count": null,
      "outputs": []
    },
    {
      "cell_type": "code",
      "metadata": {
        "id": "j20-_KGKf4o0",
        "outputId": "101fec74-8174-460b-aac4-ec5d78f3dd78",
        "colab": {
          "base_uri": "https://localhost:8080/",
          "height": 105
        }
      },
      "source": [
        "class Car():\n",
        "    \"\"\"A simple attempt to model a car\"\"\"\n",
        "    \n",
        "    def __init__(self, make, model, year):\n",
        "        \"\"\"Initialize car attributes.\"\"\"\n",
        "        self.make = make\n",
        "        self.model = model\n",
        "        self.year = year\n",
        "        \n",
        " # Fuel capacity and level in gallons.         \n",
        "        self.fuel_capacity = 15        \n",
        "        self.fuel_level = 0\n",
        "    \n",
        "    def fill_tank(self):\n",
        "      \"\"\"Fill gas tank to capacity.\"\"\"\n",
        "      self.fuel_level = self.fuel_capacity\n",
        "      print(\"Fuel tank is full.\")\n",
        "        \n",
        "    def drive(self):\n",
        "        \"\"\"Simulate driving\"\"\"\n",
        "        print(\"The car is moving\")\n",
        "        \n",
        "    # Writing a method to update an attribute's value \n",
        "    def update_fuel_level(self, new_level):\n",
        "      \"\"\"Update the fuel level.\"\"\"\n",
        "      if new_level <= self.fuel_capacity:\n",
        "        self.fuel_level = new_level     \n",
        "      else:\n",
        "        print(\"The tank can't hold that much!\")   \n",
        "        \n",
        "#       Writing a method to increment an attribute's value\n",
        "      def add_fuel(self, amount):\n",
        "          \"\"\"Add fuel to the tank.\"\"\"\n",
        "          if (self.fuel_level + amount <= self.fuel_capacity):\n",
        "            self.fuel_level += amount \n",
        "            print(\"Added fuel.\")    \n",
        "          else:         \n",
        "            print(\"The tank won't hold that much.\")\n",
        "      \n",
        "        \n",
        "my_car = Car('mazda', 'toyo', 2019)\n",
        "my_car.fuel_capacity = 20\n",
        "\n",
        "my_car.fuel_capacity\n",
        "\n",
        "\n",
        "# Creating an object from a class \n",
        "\n",
        "my_car = Car('audi','a4', 2016)\n",
        "\n",
        "# Accessing attribute values\n",
        "print(my_car.make)\n",
        "print(my_car.model)\n",
        "print(my_car.year)\n",
        "\n",
        "# Calling Methods\n",
        "my_car.fill_tank()\n",
        "my_car.drive()\n",
        "\n",
        "# Creating multiple objects\n",
        "my_car = Car('audi', 'a4', 2016)\n",
        "my_old_car = Car('subaru', 'outback', 2013)\n",
        "my_truck = Car('toyota', 'tacoma', 2010)\n",
        "\n"
      ],
      "execution_count": null,
      "outputs": [
        {
          "output_type": "stream",
          "text": [
            "audi\n",
            "a4\n",
            "2016\n",
            "Fuel tank is full.\n",
            "The car is moving\n"
          ],
          "name": "stdout"
        }
      ]
    },
    {
      "cell_type": "markdown",
      "metadata": {
        "id": "ugYdIpDDLw-6"
      },
      "source": [
        "# Modifying attributes\n",
        "You can modify an attribute's value directly, or you can write methods that manage updating values more carefully"
      ]
    },
    {
      "cell_type": "code",
      "metadata": {
        "id": "JzOw-jBQL15t"
      },
      "source": [
        "#  Modifying an attribute directly\n",
        "\n",
        "my_new_car = Car('audi', 'a4', 2016) \n",
        "my_new_car.fuel_level = 5\n",
        "\n",
        "\n",
        "\n",
        "my_new_car.update_fuel_level(new_level=10)\n",
        "my_new_car.fuel_level"
      ],
      "execution_count": null,
      "outputs": []
    },
    {
      "cell_type": "code",
      "metadata": {
        "id": "w6F-ZO-JeJaC"
      },
      "source": [
        "def greet_users(names):\n",
        "    \"\"\"Print a simple greeting to everyone.\"\"\"\n",
        "    for name in names:\n",
        "      msg = \"Hello, \" + name + \"!\"         \n",
        "      print(msg) \n",
        " \n",
        "usernames = ['hannah', 'ty', 'margot'] \n",
        "greet_users(usernames)"
      ],
      "execution_count": null,
      "outputs": []
    },
    {
      "cell_type": "markdown",
      "metadata": {
        "id": "Ji30eFl_PKg_"
      },
      "source": [
        "# Namaing Conventions\n",
        "In Python class names are written in CamelCase and object names are written in lowercase with underscores. Modules that contain classes should still be named in lowercase with underscores. "
      ]
    },
    {
      "cell_type": "markdown",
      "metadata": {
        "id": "BuyW3ZPAPXEQ"
      },
      "source": [
        "# Class inhertitance\n",
        "\n",
        "If the class you're writing is a specialized version of another class, you can use inheritance. When one class inherits from another, it automatically takes on all the attributes and methods of the parent class. The child class is free to introduce new attributes and methods, and override attributes and methods of the parent class.     To inherit from another class include the name of the parent class in parentheses when defining the new class. "
      ]
    },
    {
      "cell_type": "code",
      "metadata": {
        "id": "xYgr59gnPf_g"
      },
      "source": [
        "# The __init__() method for a child class \n"
      ],
      "execution_count": null,
      "outputs": []
    },
    {
      "cell_type": "code",
      "metadata": {
        "id": "PdByUlovPRss"
      },
      "source": [
        "class ElectricCar(Car):\n",
        "  \"\"\"A simple model of an electric car.\"\"\" \n",
        "  def __init__(self, make, model, year):\n",
        "    \"\"\"Initialize an electric car.\"\"\"\n",
        "    super().__init__(make, model, year) \n",
        "    # Attributes specific to electric cars. \n",
        "      # Battery capacity in kWh.\n",
        "    self.battery_size = 70     \n",
        "      # Charge level in %.\n",
        "      \n",
        "    self.charge_level = 0 \n",
        "    \n",
        "    \n",
        "ElectricCar.drive('ooo')\n",
        "\n",
        "# Adding new methods to the child class\n",
        "class ElectricCar(Car):\n",
        "    \"\"\"--snip---\"\"\"\n",
        "    def charge(self):\n",
        "      \"\"\"Fully charge the vehicle\"\"\"\n",
        "      self.charge_level = 100\n",
        "      print(\"The vehicle is fully charged\")\n",
        "\n",
        "#       Using child methods and parent method\n",
        "\n",
        "my_ecar = ElectricCar('tesla', 'model s', 2016)\n",
        "my_ecar.charge()\n",
        "my_ecar.drive()"
      ],
      "execution_count": null,
      "outputs": []
    },
    {
      "cell_type": "markdown",
      "metadata": {
        "id": "nNMhrCLmsK8O"
      },
      "source": [
        "# Finding your workflow\n",
        "\n",
        "There are many ways to model real world objects and situations in code, and sometimes that variety can feel overwhelming. Pick an approach and try it – if your first attempt doesn't work, try a different approach.\n"
      ]
    },
    {
      "cell_type": "markdown",
      "metadata": {
        "id": "5wxw4aKfsXRx"
      },
      "source": [
        "# Class inheritance (cont.)\n"
      ]
    },
    {
      "cell_type": "code",
      "metadata": {
        "id": "ThKo1WaqsaJG"
      },
      "source": [
        "# Overriding parent methods\n",
        "class ElectricCar(Car):\n",
        "    \"\"\"snip\"\"\"\n",
        "    def fill_tank(self):\n",
        "      \"\"\"Display an error message.\"\"\"\n",
        "      print(\"This car has no fuel tank!\")\n",
        "      \n",
        "my_ecar = ElectricCar('tesla', 'model s', 2016)\n",
        "my_ecar.fill_tank()\n",
        "          "
      ],
      "execution_count": null,
      "outputs": []
    },
    {
      "cell_type": "markdown",
      "metadata": {
        "id": "Dm9ErwfNtQzJ"
      },
      "source": [
        "# Instances as attributes\n",
        "\n",
        "A class can have objects as attributes. This allows classes to work together to model complex situations.\n"
      ]
    },
    {
      "cell_type": "code",
      "metadata": {
        "id": "wKBH9kiPtaCz"
      },
      "source": [
        "# A Battery class\n",
        "\n",
        "class Battery():\n",
        "  \"\"\" A battery for an electric car.\"\"\"\n",
        " \n",
        "  def __ini__(self, size=70):\n",
        "      \"\"\"Initialize battery atributes.\"\"\"\n",
        "      #Capacity in kwh, charge level in %.\n",
        "      self.size = size\n",
        "      self.charge_level = 0\n",
        "      \n",
        "      \n",
        "  def get_range(self):\n",
        "      \"\"\"Return the battery's range.\"\"\"\n",
        "      if self.size == 70:\n",
        "        return 240\n",
        "      elif self.size == 85:\n",
        "        return 270\n",
        "\n",
        "#       Using an instance as an attribute\n",
        "class ElectricCar(Car):\n",
        "  \"\"\"snip\"\"\"\n",
        "  \n",
        "  def __ini__(self, make, model, year):\n",
        "    \"\"\"Initialize an electric car.\"\"\"\n",
        "    super().__ini__(make, model, year)\n",
        "    \n",
        "#     Atribute specific to electric cars.\n",
        "    self.battery = Battery()\n",
        "  \n",
        "  def charge(self):\n",
        "    \"\"\"Fully charge the vehicle.\"\"\"\n",
        "    self.battery.cahrge_level = 100\n",
        "    print(\"the vehicle is fully charged.\")\n",
        "    \n",
        "    \n",
        "my_ecar = ElectricCar('tesla', 'model x', 2016)  \n",
        "my_ecar.charge()\n",
        "print(my_ecar.battery.get_range())\n",
        "my_ecar.drive()\n",
        "\n",
        "      \n",
        "      \n"
      ],
      "execution_count": null,
      "outputs": []
    },
    {
      "cell_type": "markdown",
      "metadata": {
        "id": "QNEaJG2mKW8z"
      },
      "source": [
        "# Passing informaton to a function\n",
        "\n",
        "Information that's passed to a function is called an argument; information that's received by a function is called a parameter. Arguments are included in parentheses after the function's name, and parameters are listed in parentheses in the function's definition. "
      ]
    },
    {
      "cell_type": "code",
      "metadata": {
        "id": "BTiq-lKuKjWH",
        "outputId": "691ad191-897d-4f5b-e289-0f9dde17812d",
        "colab": {
          "base_uri": "https://localhost:8080/",
          "height": 70
        }
      },
      "source": [
        "#  Passing a single argument\n",
        "def greet_user(username):\n",
        " \"\"\"Display a simple greeting.\"\"\"\n",
        " print(\"Hello, \" + username + \"!\")\n",
        "\n",
        "greet_user('jesse')\n",
        "greet_user('diana')\n",
        "greet_user('brandon')"
      ],
      "execution_count": null,
      "outputs": [
        {
          "output_type": "stream",
          "text": [
            "Hello, jesse!\n",
            "Hello, diana!\n",
            "Hello, brandon!\n"
          ],
          "name": "stdout"
        }
      ]
    },
    {
      "cell_type": "markdown",
      "metadata": {
        "id": "erSnh_G9dbGC"
      },
      "source": [
        "# Positional and Keyword arguments\n",
        "\n",
        "The two main kinds of arguments are positional and\n",
        "keyword arguments. When you use positional arguments\n",
        "Python matches the first argument in the function call with\n",
        "the first parameter in the function definition, and so forth.\n",
        " With keyword arguments, you specify which parameter\n",
        "each argument should be assigned to in the function call.\n",
        "When you use keyword arguments, the order of the\n",
        "arguments doesn't matter."
      ]
    },
    {
      "cell_type": "code",
      "metadata": {
        "id": "8F-AZVGPdiWg",
        "outputId": "9bbab898-8983-41d3-9250-2501df962d03",
        "colab": {
          "base_uri": "https://localhost:8080/",
          "height": 122
        }
      },
      "source": [
        "# Using positional arguments\n",
        "def describe_pet(animal, name):\n",
        " \"\"\"Display information about a pet.\"\"\"\n",
        " print(\"\\nI have a \" + animal + \".\")\n",
        " print(\"Its name is \" + name + \".\")\n",
        "describe_pet('hamster', 'harry')\n",
        "describe_pet('dog', 'willie')\n"
      ],
      "execution_count": null,
      "outputs": [
        {
          "output_type": "stream",
          "text": [
            "\n",
            "I have a hamster.\n",
            "Its name is harry.\n",
            "\n",
            "I have a dog.\n",
            "Its name is willie.\n"
          ],
          "name": "stdout"
        }
      ]
    },
    {
      "cell_type": "code",
      "metadata": {
        "id": "nxzv8Rkkdrpb",
        "outputId": "a322c3e3-674f-4620-b71a-ba79350f11f1",
        "colab": {
          "base_uri": "https://localhost:8080/",
          "height": 122
        }
      },
      "source": [
        "# Using keyword arguments\n",
        "def describe_pet(animal, name):\n",
        " \"\"\"Display information about a pet.\"\"\"\n",
        " print(\"\\nI have a \" + animal + \".\")\n",
        " print(\"Its name is \" + name + \".\")\n",
        "describe_pet(animal='hamster', name='harry')\n",
        "describe_pet(name='willie', animal='dog')\n"
      ],
      "execution_count": null,
      "outputs": [
        {
          "output_type": "stream",
          "text": [
            "\n",
            "I have a hamster.\n",
            "Its name is harry.\n",
            "\n",
            "I have a dog.\n",
            "Its name is willie.\n"
          ],
          "name": "stdout"
        }
      ]
    },
    {
      "cell_type": "markdown",
      "metadata": {
        "id": "BTjoc_UCeLbx"
      },
      "source": [
        "#Default Values\n",
        "\n",
        "You can provide a default value for a parameter. When\n",
        "function calls omit this argument the default value will be\n",
        "used. Parameters with default values must be listed after\n",
        "parameters without default values in the function's definition\n",
        "so positional arguments can still work correctly"
      ]
    },
    {
      "cell_type": "code",
      "metadata": {
        "id": "Ni6WTnO0ePvI",
        "outputId": "278b94f7-1a77-4e5f-bee4-e30401e00c1e",
        "colab": {
          "base_uri": "https://localhost:8080/",
          "height": 70
        }
      },
      "source": [
        "# Using a default value\n",
        "def describe_pet(name, animal='dog'):\n",
        " \"\"\"Display information about a pet.\"\"\"\n",
        " print(\"\\nI have a \" + animal + \".\")\n",
        " print(\"Its name is \" + name + \".\")\n",
        "describe_pet('harry', 'hamster')\n",
        "describe_pet('willie')\n",
        "\n",
        "# Using None to make an argument optional\n",
        "def describe_pet(animal, name=None):\n",
        "  \"\"\"Display information about a pet.\"\"\"\n",
        "  print(\"\\nI have a \" + animal + \".\")\n",
        "  if name:\n",
        "    print(\"Its name is \" + name + \".\")\n",
        "\n",
        "describe_pet('hamster', 'harry')\n",
        "describe_pet('snake')"
      ],
      "execution_count": null,
      "outputs": [
        {
          "output_type": "stream",
          "text": [
            "\n",
            "I have a hamster.\n",
            "Its name is harry.\n"
          ],
          "name": "stdout"
        }
      ]
    },
    {
      "cell_type": "markdown",
      "metadata": {
        "id": "D3T69XuUjFUJ"
      },
      "source": [
        "# Return Values\n",
        "A function can return a value or a set of values. When a\n",
        "function returns a value, the calling line must provide a\n",
        "variable in which to store the return value. A function stops\n",
        "running when it reaches a return statement.\n"
      ]
    },
    {
      "cell_type": "code",
      "metadata": {
        "id": "IF0R6q9NjIw9",
        "outputId": "7639c8cd-cab7-449a-9759-3cc3e751621f",
        "colab": {
          "base_uri": "https://localhost:8080/",
          "height": 52
        }
      },
      "source": [
        "# Returning a single value\n",
        "def get_full_name(first, last):\n",
        " \"\"\"Return a neatly formatted full name.\"\"\"\n",
        " full_name = first + ' ' + last\n",
        " return full_name.title(), full_name # str.title() make the first letter Capital\n",
        "\n",
        "musician = get_full_name('jimi', 'hendrix')\n",
        "print(musician)\n",
        "\n",
        "# Returning a dictionary\n",
        "def build_person(first, last):\n",
        " \"\"\"Return a dictionary of information\n",
        " about a person.\n",
        " \"\"\"\n",
        " person = {'first': first.title(), 'last': last}\n",
        " return person\n",
        "\n",
        "# usage Example\n",
        "musician = build_person('jimi', 'hendrix')\n",
        "print(musician)\n",
        "\n",
        "\n",
        "# Returning a dictionary with optional values\n",
        "def build_person(first, last, age=None):\n",
        "  \"\"\"Return a dictionary of information about a person.\"\"\"\n",
        "  person = {'first': first, 'last': last}\n",
        "  if age:\n",
        "    person['age'] = age\n",
        "   \n",
        "  return person\n",
        "  \n",
        "musician = build_person('jimi', 'hendrix', 27)\n",
        "print(musician)\n",
        "musician = build_person('janis', 'joplin')\n",
        "print(musician)\n",
        "# musician[]\n"
      ],
      "execution_count": null,
      "outputs": [
        {
          "output_type": "stream",
          "text": [
            "{'first': 'jimi', 'last': 'hendrix', 'age': 27}\n",
            "{'first': 'janis', 'last': 'joplin'}\n"
          ],
          "name": "stdout"
        }
      ]
    },
    {
      "cell_type": "markdown",
      "metadata": {
        "id": "EQBC91u5mFCU"
      },
      "source": [
        "# Visualization Functions\n",
        "Try running some of these examples on [PythonTutor](http://pythontutor.com/)\n",
        "\n",
        "This is  cool website to learn and visualize your code and get or give help. Let's try it..."
      ]
    },
    {
      "cell_type": "markdown",
      "metadata": {
        "id": "FiJ5UPx1nonL"
      },
      "source": [
        "# Passing a list to a function\n",
        "You can pass a list as an argument to a function, and the\n",
        "function can work with the values in the list. Any changes\n",
        "the function makes to the list will affect the original list. You\n",
        "can prevent a function from modifying a list by passing a\n",
        "copy of the list as an argument."
      ]
    },
    {
      "cell_type": "code",
      "metadata": {
        "id": "92ceGh3vnta2",
        "outputId": "028e7dd2-2e84-4855-f895-ca8c90cb2be3",
        "colab": {
          "base_uri": "https://localhost:8080/",
          "height": 70
        }
      },
      "source": [
        "# Passing a list as an argument\n",
        "def greet_users(names):\n",
        "  \"\"\"Print a simple greeting to everyone.\"\"\"\n",
        "  for name in names:\n",
        "    msg = \"Hello, \" + name + \"!\"\n",
        "    print(msg)\n",
        "  \n",
        "usernames = ['hannah', 'ty', 'margot']\n",
        "greet_users(usernames)\n",
        "\n",
        "def greet_users(names):\n",
        "  \"\"\"pring a simpel greeting to all\"\"\"\n",
        "  for name in names:\n",
        "    print('Hello ' + name + \"!\")\n",
        "    \n",
        "usernames = ['hannah', 'ty', 'margot']\n",
        "greet_users(usernames)\n"
      ],
      "execution_count": null,
      "outputs": [
        {
          "output_type": "stream",
          "text": [
            "Hello hannah!\n",
            "Hello ty!\n",
            "Hello margot!\n"
          ],
          "name": "stdout"
        }
      ]
    },
    {
      "cell_type": "markdown",
      "metadata": {
        "id": "hQKuRg577aIR"
      },
      "source": [
        "# Allowing a function to modify a list\n",
        "The following example sends a list of models to a function for\n",
        "printing. The original list is emptied, and the second list is filled."
      ]
    },
    {
      "cell_type": "code",
      "metadata": {
        "id": "KWnzeIv27ddz",
        "outputId": "288f5e43-9cd6-45dc-9742-625a739e094e",
        "colab": {
          "base_uri": "https://localhost:8080/",
          "height": 122
        }
      },
      "source": [
        "def print_models(unprinted, printed):\n",
        "  \"\"\"3d print a set of models.\"\"\"\n",
        "  while unprinted:\n",
        "    current_model = unprinted.pop()\n",
        "    print(\"Printing \" + current_model)\n",
        "    printed.append(current_model)\n",
        "    \n",
        "# Store some unprinted designs,\n",
        "# and print each of them.\n",
        "unprinted = ['phone case', 'pendant', 'ring']\n",
        "printed = []\n",
        "print_models(unprinted, printed)\n",
        "print(\"\\nUnprinted:\", unprinted)\n",
        "print(\"Printed:\", printed)\n"
      ],
      "execution_count": null,
      "outputs": [
        {
          "output_type": "stream",
          "text": [
            "Printing ring\n",
            "Printing pendant\n",
            "Printing phone case\n",
            "\n",
            "Unprinted: []\n",
            "Printed: ['ring', 'pendant', 'phone case']\n"
          ],
          "name": "stdout"
        }
      ]
    },
    {
      "cell_type": "markdown",
      "metadata": {
        "id": "5QqeOI4S8155"
      },
      "source": [
        "# Preventing a function from modifying a list\n",
        "The following example is the same as the previous one, except the\n",
        "original list is unchanged after calling print_models(). "
      ]
    },
    {
      "cell_type": "code",
      "metadata": {
        "id": "a0mDtUvtmO5Z",
        "outputId": "820ed8c5-43af-41c0-ab40-0a8bec6a5e1c",
        "colab": {
          "base_uri": "https://localhost:8080/",
          "height": 34
        }
      },
      "source": [
        "def print_models(unprinted, printed):\n",
        "  \"\"\"3d print a set of models.\"\"\"\n",
        "  while unprinted:\n",
        "    current_model = unprinted.pop()\n",
        "    print(\"Printing \" + current_model)\n",
        "    printed.append(current_model)\n",
        "      \n",
        "# Store some unprinted designs,\n",
        "# and print each of them.\n",
        "original = ['phone case', 'pendant', 'ring']\n",
        "printed = []\n",
        "print_models(original[:], printed)\n",
        "print(\"\\nOriginal:\", original)\n",
        "print(\"Printed:\", printed)\n"
      ],
      "execution_count": null,
      "outputs": [
        {
          "output_type": "execute_result",
          "data": {
            "text/plain": [
              "['phone case', 'pendant', 'ring']"
            ]
          },
          "metadata": {
            "tags": []
          },
          "execution_count": 64
        }
      ]
    },
    {
      "cell_type": "markdown",
      "metadata": {
        "id": "ZBv5WFaHAGL0"
      },
      "source": [
        "#Passing a number of arguments\n",
        "\n",
        "Sometimes you won't know how many arguments a\n",
        "function will need to accept. Python allows you to collect an\n",
        "arbitrary number of arguments into one parameter using\n",
        "\n",
        "The ''*'' operator. A parameter that accepts an arbitrary number of\n",
        "arguments must come last in the function definition.\n",
        "\n",
        " The ** operator allows a parameter to collect an arbitrary\n",
        "number of keyword arguments"
      ]
    },
    {
      "cell_type": "code",
      "metadata": {
        "id": "WeIl7JKzAJFC",
        "outputId": "b4cb4de6-56ef-43ae-9def-4c5d4a27dd1f",
        "colab": {
          "base_uri": "https://localhost:8080/",
          "height": 140
        }
      },
      "source": [
        "# Collecting an arbitrary number of arguments\n",
        "def make_pizza(size, *toppings):\n",
        "  \"\"\"Make a pizza.\"\"\"\n",
        "  print(\"\\nMaking a \" + size + \" pizza.\")\n",
        "  print(\"Toppings:\")\n",
        "  for topping in toppings:\n",
        "    print(\"- \" + topping)\n",
        "    \n",
        "# Make three pizzas with different toppings.\n",
        "make_pizza('small', 'pepperoni')\n",
        "make_pizza('large', 'bacon bits', 'pineapple')\n",
        "make_pizza('medium', 'mushrooms', 'peppers',\n",
        " 'onions', 'extra cheese')"
      ],
      "execution_count": null,
      "outputs": [
        {
          "output_type": "stream",
          "text": [
            "\n",
            "Making a medium pizza.\n",
            "Toppings:\n",
            "- mushrooms\n",
            "- peppers\n",
            "- onions\n",
            "- extra cheese\n"
          ],
          "name": "stdout"
        }
      ]
    },
    {
      "cell_type": "code",
      "metadata": {
        "id": "kqZ_SHllBG80",
        "outputId": "c7b57ea2-6d09-40b1-e384-eb8e8d298475",
        "colab": {
          "base_uri": "https://localhost:8080/",
          "height": 52
        }
      },
      "source": [
        "# Collecting an arbitrary number of keyword arguments\n",
        "def build_profile(first, last, **user_info):\n",
        "  \"\"\"Build a user's profile dictionary.\"\"\"\n",
        "  # Build a dict with the required keys.\n",
        "  profile = {'first': first, 'last': last}\n",
        "  # Add any other keys and values.\n",
        "  for key, value in user_info.items():\n",
        "    profile[key] = value\n",
        "    return profile\n",
        "  \n",
        "# Create two users with different kinds\n",
        "# of information.\n",
        "user_0 = build_profile('albert', 'einstein',\n",
        " location='princeton')\n",
        "user_1 = build_profile('marie', 'curie',\n",
        " location='paris', field='chemistry')\n",
        "print(user_0)\n",
        "print(user_1)"
      ],
      "execution_count": null,
      "outputs": [
        {
          "output_type": "stream",
          "text": [
            "{'first': 'albert', 'last': 'einstein', 'location': 'princeton'}\n",
            "{'first': 'marie', 'last': 'curie', 'location': 'paris'}\n"
          ],
          "name": "stdout"
        }
      ]
    },
    {
      "cell_type": "markdown",
      "metadata": {
        "id": "Sg1y-V_lBGNE"
      },
      "source": [
        "# What is the best way to structur a function\n",
        "As you can see there are many ways to write and call a\n",
        "function. When you're starting out, aim for something that\n",
        "simply works. As you gain experience you'll develop an\n",
        "understanding of the more subtle advantages of different\n",
        "structures such as positional and keyword arguments, and\n",
        "the various approaches to importing functions. For now if\n",
        "your functions do what you need them to, you're doing well."
      ]
    },
    {
      "cell_type": "markdown",
      "metadata": {
        "id": "wKKhHzYBCfNP"
      },
      "source": [
        "# Module \n",
        "You can store your functions in a separate file called a\n",
        "module, and then import the functions you need into the file\n",
        "containing your main program. This allows for cleaner\n",
        "program files. (Make sure your module is stored in the\n",
        "same directory as your main program.)"
      ]
    },
    {
      "cell_type": "code",
      "metadata": {
        "id": "gx3JIrJmCErI",
        "outputId": "fc503b2f-9c96-498b-c061-1ef7d1824384",
        "colab": {
          "base_uri": "https://localhost:8080/",
          "height": 809
        }
      },
      "source": [
        "# Storing a function in a module\n",
        "#  File: pizza.py, one needs to create pizza.py from the following otherwise this piece would not work.\n",
        "#  Simply open a blank txt editor like Notepad++ and copy the function below and save it as pizza.py\n",
        "# then upload it here if you use google colab. \n",
        "\n",
        "# Also, the pizza.py needs to be in the same directory this code is being run.\n",
        "\n",
        "# Storing a function in a module\n",
        "# File: pizza.py\n",
        "def make_pizza(size, *toppings):\n",
        "  \"\"\"Make a pizza.\"\"\"\n",
        "  print(\"\\nMaking a \" + size + \" pizza.\")\n",
        "  print(\"Toppings:\")\n",
        "  for topping in toppings:\n",
        "    print(\"- \" + topping)\n",
        "    \n",
        "# Importing an entire module\n",
        "# File: making_pizzas.py\n",
        "# Every function in the module is available in the program file.\n",
        "import pizza # this maynot work if we dont ahve this file pizza.py\n",
        "pizza.make_pizza('medium', 'pepperoni')\n",
        "pizza.make_pizza('small', 'bacon', 'pineapple')\n",
        "\n",
        "# Importing a specific function\n",
        "# Only the imported functions are available in the program file.\n",
        "from pizza import make_pizza\n",
        "make_pizza('medium', 'pepperoni')\n",
        "make_pizza('small', 'bacon', 'pineapple')\n",
        "\n",
        "# Giving a module an alias\n",
        "import pizza as p\n",
        "p.make_pizza('medium', 'pepperoni')\n",
        "p.make_pizza('small', 'bacon', 'pineapple')\n",
        "\n",
        "# Giving a function an alias\n",
        "from pizza import make_pizza as mp\n",
        "mp('medium', 'pepperoni')\n",
        "mp('small', 'bacon', 'pineapple')\n",
        "\n",
        "\n",
        "# Importing all functions from a module\n",
        "\n",
        "# Don't do this, but recognize it when you see it in others' code. It\n",
        "# can result in naming conflicts, which can cause errors.\n",
        "from pizza import *\n",
        "make_pizza('medium', 'pepperoni')\n",
        "make_pizza('small', 'bacon', 'pineapple')\n"
      ],
      "execution_count": null,
      "outputs": [
        {
          "output_type": "stream",
          "text": [
            "\n",
            "Making a medium pizza.\n",
            "Toppings:\n",
            "- pepperoni\n",
            "\n",
            "Making a small pizza.\n",
            "Toppings:\n",
            "- bacon\n",
            "- pineapple\n",
            "\n",
            "Making a medium pizza.\n",
            "Toppings:\n",
            "- pepperoni\n",
            "\n",
            "Making a small pizza.\n",
            "Toppings:\n",
            "- bacon\n",
            "- pineapple\n",
            "\n",
            "Making a medium pizza.\n",
            "Toppings:\n",
            "- pepperoni\n",
            "\n",
            "Making a small pizza.\n",
            "Toppings:\n",
            "- bacon\n",
            "- pineapple\n",
            "\n",
            "Making a medium pizza.\n",
            "Toppings:\n",
            "- pepperoni\n",
            "\n",
            "Making a small pizza.\n",
            "Toppings:\n",
            "- bacon\n",
            "- pineapple\n",
            "\n",
            "Making a medium pizza.\n",
            "Toppings:\n",
            "- pepperoni\n",
            "\n",
            "Making a small pizza.\n",
            "Toppings:\n",
            "- bacon\n",
            "- pineapple\n"
          ],
          "name": "stdout"
        }
      ]
    },
    {
      "cell_type": "markdown",
      "metadata": {
        "id": "QQ8gkihjQZHt"
      },
      "source": [
        "# Cheat Sheet - Classes\n",
        "\n",
        "What are classes?\n",
        "\n",
        "Classes are the foundation of object-oriented\n",
        "programming. Classes represent real-world things\n",
        "you want to model in your programs: for example\n",
        "dogs, cars, and robots. You use a class to make\n",
        "objects, which are specific instances of dogs, cars,\n",
        "and robots. A class defines the general behavior that\n",
        "a whole category of objects can have, and the\n",
        "information that can be associated with those objects.\n",
        " Classes can inherit from each other – you can\n",
        "write a class that extends the functionality of an\n",
        "existing class. This allows you to code efficiently for a\n",
        "wide variety of situations."
      ]
    },
    {
      "cell_type": "markdown",
      "metadata": {
        "id": "b2297Zl0RCQp"
      },
      "source": [
        "#Creating and using classes\n",
        "\n",
        "Consider how we might model a car. What information\n",
        "would we associate with a car, and what behavior would it\n",
        "have? The information is stored in variables called\n",
        "attributes, and the behavior is represented by functions.\n",
        "Functions that are part of a class are called methods."
      ]
    },
    {
      "cell_type": "code",
      "metadata": {
        "id": "B9Jg6CVFRH56",
        "outputId": "62da78af-d55e-4663-8804-ca0cf3ccf71a",
        "colab": {
          "base_uri": "https://localhost:8080/",
          "height": 105
        }
      },
      "source": [
        "# The Car class\n",
        "class Car():\n",
        "  \"\"\"A simple attempt to model a car.\"\"\"\n",
        "  def __init__(self, make, model, year):\n",
        "    \"\"\"Initialize car attributes.\"\"\"\n",
        "    self.make = make\n",
        "    self.model = model\n",
        "    self.year = year\n",
        "    \n",
        " # Fuel capacity and level in gallons.\n",
        "    self.fuel_capacity = 15\n",
        "    self.fuel_level = 0\n",
        "  \n",
        "  def fill_tank(self):\n",
        "    \"\"\"Fill gas tank to capacity.\"\"\"\n",
        "    self.fuel_level = self.fuel_capacity\n",
        "    print(\"Fuel tank is full.\")\n",
        "\n",
        "  def drive(self):\n",
        "    \"\"\"Simulate driving.\"\"\"\n",
        "    print(\"The car is moving.\")\n",
        "    \n",
        "\n",
        "# Creating an object from a class\n",
        "my_car = Car('audi', 'a4', 2016)\n",
        "# Accessing attribute values\n",
        "print(my_car.make)\n",
        "print(my_car.model)\n",
        "print(my_car.year)\n",
        "\n",
        "# Calling methods\n",
        "\n",
        "my_car.fill_tank()\n",
        "my_car.drive()\n",
        "\n",
        "# Creating multiple objects\n",
        "my_car = Car('audi', 'a4', 2016)\n",
        "my_old_car = Car('subaru', 'outback', 2013)\n",
        "my_truck = Car('toyota', 'tacoma', 2010)"
      ],
      "execution_count": null,
      "outputs": [
        {
          "output_type": "stream",
          "text": [
            "audi\n",
            "a4\n",
            "2016\n",
            "Fuel tank is full.\n",
            "The car is moving.\n"
          ],
          "name": "stdout"
        }
      ]
    },
    {
      "cell_type": "markdown",
      "metadata": {
        "id": "_jRXUTKcSolQ"
      },
      "source": [
        "# Modifying attributes\n",
        "\n",
        "You can modify an attribute's value directly, or you can\n",
        "write methods that manage updating values more carefully."
      ]
    },
    {
      "cell_type": "code",
      "metadata": {
        "id": "k14Uif9kSq8S"
      },
      "source": [
        "# Modifying an attribute directly\n",
        "\n",
        "my_new_car = Car('audi', 'a4', 2016)\n",
        "my_new_car.fuel_level = 5\n",
        "\n",
        "# Writing a method to update an attribute's value\n",
        "def update_fuel_level(self, new_level): \n",
        "  \"\"\"Update the fuel level.\"\"\"\n",
        "  if new_level <= self.fuel_capacity:\n",
        "    self.fuel_level = new_level\n",
        "  else:\n",
        "      print(\"The tank can't hold that much!\")\n",
        "\n",
        "# Writing a method to increment an attribute's value\n",
        "def add_fuel(self, amount):\n",
        "  \"\"\"Add fuel to the tank.\"\"\"\n",
        "  if (self.fuel_level + amount <= self.fuel_capacity):\n",
        "    self.fuel_level += amount\n",
        "    print(\"Added fuel.\")\n",
        "  else:\n",
        "      print(\"The tank won't hold that much.\")\n"
      ],
      "execution_count": null,
      "outputs": []
    },
    {
      "cell_type": "markdown",
      "metadata": {
        "id": "p2G1g1iQTNnh"
      },
      "source": [
        "#Naming Convention\n",
        "In Python class names are written in CamelCase and object\n",
        "names are written in lowercase with underscores. Modules\n",
        "that contain classes should still be named in lowercase with\n",
        "underscores."
      ]
    },
    {
      "cell_type": "markdown",
      "metadata": {
        "id": "hgJsGyJqTZWB"
      },
      "source": [
        "# Class Inheritance\n",
        "\n",
        "If the class you're writing is a specialized version of another\n",
        "class, you can use inheritance. When one class inherits\n",
        "from another, it automatically takes on all the attributes and\n",
        "methods of the parent class. The child class is free to\n",
        "introduce new attributes and methods, and override\n",
        "attributes and methods of the parent class.\n",
        " To inherit from another class include the name of the\n",
        "parent class in parentheses when defining the new class.\n"
      ]
    },
    {
      "cell_type": "code",
      "metadata": {
        "id": "dtw51gnsTg2E"
      },
      "source": [
        "# The __init__() method for a child class\n",
        "class ElectricCar(Car):\n",
        "  \"\"\"A simple model of an electric car.\"\"\"\n",
        "  def __init__(self, make, model, year):\n",
        "    \"\"\"Initialize an electric car.\"\"\"\n",
        "    super().__init__(make, model, year)\n",
        "    # Attributes specific to electric cars.\n",
        "    # Battery capacity in kWh.\n",
        "    self.battery_size = 70\n",
        "    # Charge level in %.\n",
        "    self.charge_level = 0\n",
        "    \n",
        "    Adding new methods to the child class\n",
        "class ElectricCar(Car):\n",
        " --snip--\n",
        " def charge(self):\n",
        " \"\"\"Fully charge the vehicle.\"\"\"\n",
        " self.charge_level = 100\n",
        " print(\"The vehicle is fully charged.\")\n",
        "Using child methods and parent methods\n",
        "my_ecar = ElectricCar('tesla', 'model s', 2016)\n",
        "my_ecar.charge()\n",
        "my_ecar.drive()\n"
      ],
      "execution_count": null,
      "outputs": []
    },
    {
      "cell_type": "markdown",
      "metadata": {
        "id": "1HlqvX2jVfBC"
      },
      "source": [
        "# Finding your workflow\n",
        "\n",
        "There are many ways to model real world objects and\n",
        "situations in code, and sometimes that variety can feel\n",
        "overwhelming. Pick an approach and try it – if your first\n",
        "attempt doesn't work, try a different approach. "
      ]
    },
    {
      "cell_type": "code",
      "metadata": {
        "id": "FRtXpqDeVrY3",
        "outputId": "5802fe55-8400-49af-dcb3-5c9d1eec1d85",
        "colab": {
          "base_uri": "https://localhost:8080/",
          "height": 34
        }
      },
      "source": [
        "# Overriding parent methods\n",
        "class ElectricCar(Car):\n",
        "  '''--snip--'''\n",
        "  def fill_tank(self):\n",
        "    \"\"\"Display an error message.\"\"\"\n",
        "    print(\"This car has no fuel tank!\")\n",
        "    \n",
        "    \n",
        "my_car = ElectricCar('asd','Tesla', 2099)\n",
        "my_car.fill_tank()\n"
      ],
      "execution_count": null,
      "outputs": [
        {
          "output_type": "stream",
          "text": [
            "This car has no fuel tank!\n"
          ],
          "name": "stdout"
        }
      ]
    },
    {
      "cell_type": "markdown",
      "metadata": {
        "id": "0LiU2q6rWSPC"
      },
      "source": [
        "# instances as inheritance\n",
        "\n",
        "A class can have objects as attributes. This allows classes\n",
        "to work together to model complex situations."
      ]
    },
    {
      "cell_type": "code",
      "metadata": {
        "id": "R9e1lmxGWUhY",
        "outputId": "4e6c1ac0-a02a-4133-d203-c697f916f14a",
        "colab": {
          "base_uri": "https://localhost:8080/",
          "height": 70
        }
      },
      "source": [
        "# A Battery class\n",
        "class Battery():\n",
        "  \"\"\"A battery for an electric car.\"\"\"\n",
        "  def __init__(self, size=70):\n",
        "    \"\"\"Initialize battery attributes.\"\"\"\n",
        "    # Capacity in kWh, charge level in %.\n",
        "    self.size = size\n",
        "    self.charge_level = 0\n",
        "  \n",
        "  def get_range(self):\n",
        "    \"\"\"Return the battery's range.\"\"\"\n",
        "    if self.size == 70:\n",
        "      return 240\n",
        "    elif self.size == 85:\n",
        "      return 270\n",
        "\n",
        "# Using an instance as an attribute\n",
        "class ElectricCar(Car):\n",
        "#  --snip--\n",
        "    def __init__(self, make, model, year):\n",
        "      \"\"\"Initialize an electric car.\"\"\"\n",
        "      super().__init__(make, model, year)\n",
        "      # Attribute specific to electric cars.\n",
        "      self.battery = Battery()\n",
        "    def charge(self):\n",
        "      \"\"\"Fully charge the vehicle.\"\"\"\n",
        "      self.battery.charge_level = 100\n",
        "      print(\"The vehicle is fully charged.\")\n",
        "      \n",
        "x =ElectricCar('324','234',40)\n",
        "x.charge()\n",
        "\n",
        "# Using the instance\n",
        "my_ecar = ElectricCar('tesla', 'model x', 2016)\n",
        "my_ecar.charge()\n",
        "print(my_ecar.battery.get_range())\n",
        "my_ecar.drive()"
      ],
      "execution_count": null,
      "outputs": [
        {
          "output_type": "stream",
          "text": [
            "The vehicle is fully charged.\n",
            "240\n",
            "The car is moving.\n"
          ],
          "name": "stdout"
        }
      ]
    },
    {
      "cell_type": "markdown",
      "metadata": {
        "id": "hSCDEs_MrHwq"
      },
      "source": [
        "# Importing classes\n",
        "Class files can get long as you add detailed information and functionality. To help keep your program files uncluttered, you can store your classes in modules and import the classes you need into your main program"
      ]
    },
    {
      "cell_type": "markdown",
      "metadata": {
        "id": "mjotEcxhrQzJ"
      },
      "source": [
        "#Storing classes\n",
        "in a file car.py "
      ]
    },
    {
      "cell_type": "code",
      "metadata": {
        "id": "G7ftV0NJrLuq",
        "outputId": "929e21a0-7aa0-4c07-ec4c-f09751c495e0",
        "colab": {
          "base_uri": "https://localhost:8080/",
          "height": 132
        }
      },
      "source": [
        "\"\"\"Represent gas and electric cars.\"\"\" \n",
        " \n",
        "class Car():     \n",
        "  \"\"\"A simple attempt to model a car.\"\"\"  \n",
        "  #--snip— \n",
        " \n",
        "class Battery():     \n",
        "  \"\"\"A battery for an electric car.\"\"\"\n",
        "  #--snip-- \n",
        " \n",
        "class ElectricCar(Car):     \n",
        "  \"\"\"A simple model of an electric car.\"\"\"  \n",
        "  #--snip--\n",
        "  \n",
        "  \n",
        "  \n",
        "# Need to create my_cars.py including all the classes and import them here so these below may not work\n",
        "# They are to help show the pathway\n",
        "# Importing individual classes from a module my_cars.py \n",
        "from car import Car, ElectricCar \n",
        " \n",
        "my_beetle = Car('volkswagen', 'beetle', 2016)\n",
        "my_beetle.fill_tank() my_beetle.drive() \n",
        " \n",
        "my_tesla = ElectricCar('tesla', 'model s', 2016)\n",
        "my_tesla.charge() my_tesla.drive() \n",
        "\n",
        "#Importing an entire module \n",
        "import car \n",
        " \n",
        "my_beetle = car.Car('volkswagen', 'beetle', 2016)\n",
        "my_beetle.fill_tank() my_beetle.drive() \n",
        " \n",
        "my_tesla = car.ElectricCar('tesla', 'model s', 2016)\n",
        "my_tesla.charge() \n",
        "my_tesla.drive()\n",
        "\n",
        "# Importing all classes from a module (Don’t do this, but recognize it when you see it.) \n",
        "from car import *  \n",
        "my_beetle = Car('volkswagen', 'beetle', 2016) \n",
        " \n",
        "# Classes in Python 2.7 I doubt this has changed for v3+ check anyway.\n",
        "  \n",
        "# Classes should inherit from object \n",
        "class ClassName(object): \n",
        "\n",
        "#The Car class in Python 2.7 \n",
        "class Car(object): \n",
        "  \n",
        "# Child class __init__() method is different \n",
        "class ChildClassName(ParentClass):     \n",
        "  def __init__(self):         \n",
        "    super(ClassName, self).__init__() \n",
        "    \n",
        "    \n",
        "# The ElectricCar class in Python 2.7 \n",
        "class ElectricCar(Car):     \n",
        "  def __init__(self, make, model, year):\n",
        "    super(ElectricCar, self).__init__(make, model, year) "
      ],
      "execution_count": null,
      "outputs": [
        {
          "output_type": "error",
          "ename": "SyntaxError",
          "evalue": "ignored",
          "traceback": [
            "\u001b[0;36m  File \u001b[0;32m\"<ipython-input-20-ba661ef3ed8b>\"\u001b[0;36m, line \u001b[0;32m18\u001b[0m\n\u001b[0;31m    Importing individual classes from a module my_cars.py\u001b[0m\n\u001b[0m                       ^\u001b[0m\n\u001b[0;31mSyntaxError\u001b[0m\u001b[0;31m:\u001b[0m invalid syntax\n"
          ]
        }
      ]
    },
    {
      "cell_type": "markdown",
      "metadata": {
        "id": "Qxt_j2WXr6VC"
      },
      "source": [
        "# Storing objects in a list\n",
        "A list can hold as many items as you want, so you can make a large number of objects from a class and store them in a list.     Here's an example showing how to make a fleet of rental cars, and make sure all the cars are ready to drive."
      ]
    },
    {
      "cell_type": "code",
      "metadata": {
        "id": "z9XbaFEbso4Z",
        "outputId": "d14028f7-c8cf-46ea-8b5c-6c0efa67abec",
        "colab": {
          "base_uri": "https://localhost:8080/",
          "height": 132
        }
      },
      "source": [
        "# A fleet of rental cars\n",
        "from car import Car, ElectricCar \n",
        " \n",
        "# Make lists to hold a fleet of cars. \n",
        "gas_fleet = [] electric_fleet = [] \n",
        " \n",
        "# Make 500 gas cars and 250 electric cars. \n",
        "for _ in range(500):     \n",
        "  car = Car('ford', 'focus', 2016) \n",
        "  gas_fleet.append(car) for _ in range(250):\n",
        "    ecar = ElectricCar('nissan', 'leaf', 2016)  \n",
        "    electric_fleet.append(ecar) \n",
        " \n",
        "# Fill the gas cars, and charge electric cars. \n",
        "for car in gas_fleet:   \n",
        "  car.fill_tank() for ecar in electric_fleet:\n",
        "    ecar.charge() \n",
        " \n",
        "print(\"Gas cars:\", len(gas_fleet)) print(\"Electric cars:\", len(electric_fleet)) "
      ],
      "execution_count": null,
      "outputs": [
        {
          "output_type": "error",
          "ename": "SyntaxError",
          "evalue": "ignored",
          "traceback": [
            "\u001b[0;36m  File \u001b[0;32m\"<ipython-input-21-d976dcc421d3>\"\u001b[0;36m, line \u001b[0;32m4\u001b[0m\n\u001b[0;31m    gas_fleet = [] electric_fleet = []\u001b[0m\n\u001b[0m                                ^\u001b[0m\n\u001b[0;31mSyntaxError\u001b[0m\u001b[0;31m:\u001b[0m invalid syntax\n"
          ]
        }
      ]
    },
    {
      "cell_type": "markdown",
      "metadata": {
        "id": "PK6nok4ttRe1"
      },
      "source": [
        "# Beginner's Python Cheat Sheet - \n",
        "Files and Exceptions\n",
        "What are files? What are exceptions?\n",
        "Your programs can read information in from files, and they can write data to files. Reading from files allows you to work with a wide variety of information; writing to files allows users to pick up where they left off the next time they run your program. You can write text to files, and you can store Python structures such as lists in data files. \n",
        " \n",
        "Exceptions are special objects that help your programs respond to errors in appropriate ways. For example if your program tries to open a file that doesn’t exist, you can use exceptions to display an informative error message instead of having the program crash.\n",
        " \n"
      ]
    },
    {
      "cell_type": "markdown",
      "metadata": {
        "id": "dbpBYYxitmRF"
      },
      "source": [
        "# Reading from a file\n",
        "To read from a file your program needs to open the file and then read the contents of the file. You can read the entire contents of the file at once, or read the file line by line. The with statement makes sure the file is closed properly when the program has finished accessing the file."
      ]
    },
    {
      "cell_type": "code",
      "metadata": {
        "id": "jGiOfFfhtjt_",
        "outputId": "2f424ce3-2315-4b18-f645-7be9cdc24aed",
        "colab": {
          "base_uri": "https://localhost:8080/",
          "height": 52
        }
      },
      "source": [
        "# e.g. get this file form github or anywhere from internet using !wget\n",
        "!wget https://github.com/ehmatthes/pcc/blob/master/chapter_10/siddhartha.txt\n",
        "  \n",
        "# or \n",
        "\n",
        "import urllib.request\n",
        "print('Beginning file download with urllib2...')\n",
        "url = 'https://github.com/ehmatthes/pcc/blob/master/chapter_10/siddhartha.txt'  \n",
        "urllib.request.urlretrieve(url, './siddhartha.txt') \n",
        "\n",
        "filename = 'siddhartha.txt'\n",
        "\n",
        "with open(filename) as f_obj:\n",
        "    contents = f_obj.read()\n",
        "    \n",
        "print(contents)\n",
        "\n"
      ],
      "execution_count": null,
      "outputs": [
        {
          "output_type": "stream",
          "text": [
            "Beginning file download with urllib2...\n"
          ],
          "name": "stdout"
        },
        {
          "output_type": "execute_result",
          "data": {
            "text/plain": [
              "('./siddhartha.txt', <http.client.HTTPMessage at 0x7fde15c76160>)"
            ]
          },
          "metadata": {
            "tags": []
          },
          "execution_count": 27
        }
      ]
    },
    {
      "cell_type": "markdown",
      "metadata": {
        "id": "uA4mEizMTNdP"
      },
      "source": [
        "# Reading line by line \n",
        "Each line that's read from the file has a newline character at the end of the line, and the print function adds its own newline character.\n",
        "The rstrip() method gets rid of the the extra blank lines this would result in when\n",
        "printing to the terminal. "
      ]
    },
    {
      "cell_type": "code",
      "metadata": {
        "id": "cvPgcoSq3R5s"
      },
      "source": [
        "filename = 'siddhartha.txt'\n",
        "\n",
        "with open(filename) as f_obj:\n",
        "  for line in f_obj:\n",
        "    print(line.rstrip())\n",
        "    \n",
        "    \n",
        "# Storing the lines in a list \n",
        "filename = 'siddhartha.txt' \n",
        " \n",
        "with open(filename) as f_obj:\n",
        "  lines = f_obj.readlines() \n",
        "  for line in lines:    \n",
        "    print(line.rstrip()) "
      ],
      "execution_count": null,
      "outputs": []
    },
    {
      "cell_type": "markdown",
      "metadata": {
        "id": "4nYhOmKx3OTX"
      },
      "source": [
        "# Writing to a file\n",
        " \n",
        "Passing the 'w' argument to open() tells Python you want to write to the file. Be careful; this will erase the contents of the file if it already exists. Passing the 'a' argument tells Python you want to append to the end of an existing file. "
      ]
    },
    {
      "cell_type": "code",
      "metadata": {
        "id": "JJR4lfg13ltw"
      },
      "source": [
        "# Writing to an empty file \n",
        "filename = 'programming.txt' \n",
        " \n",
        "with open(filename, 'w') as f: \n",
        "  f.write(\"I love programming!\") \n",
        "  \n",
        "#   Writing multiple lines to an empty file \n",
        "filename = 'programming.txt' \n",
        " \n",
        "with open(filename, 'w') as f:   \n",
        "  f.write(\"I love programming!\\n\")\n",
        "  f.write(\"I love creating new games.\\n\")\n",
        "  \n",
        "#   Appending to a file \n",
        "filename = 'programming.txt' \n",
        " \n",
        "with open(filename, 'a') as f: \n",
        "  f.write(\"I also love working with data.\\n\")   \n",
        "  f.write(\"I love making apps as well.\\n\")"
      ],
      "execution_count": null,
      "outputs": []
    },
    {
      "cell_type": "markdown",
      "metadata": {
        "id": "bneV7QOa38Rp"
      },
      "source": [
        "# File Paths\n",
        "When Python runs the open() function, it looks for the file in the same directory where the program that's being excuted is stored. You can open a file from a subfolder using a relative path. You can also use an absolute path to open any file on your system."
      ]
    },
    {
      "cell_type": "code",
      "metadata": {
        "id": "lyMYy11N4CmZ"
      },
      "source": [
        "# Opening a file from a subfolder\n",
        "# note: if you use Google Colab you need to create or upload these files there is a\n",
        "# Upload botton on the left hand side under Files\n",
        "f_path = \"text_files/alice.txt\" \n",
        " \n",
        "with open(f_path) as f_obj:    \n",
        "  lines = f_obj.readlines() \n",
        " \n",
        "for line in lines:     \n",
        "  print(line.rstrip())\n",
        "  \n",
        "  \n",
        "# Opening a file using an absolute path \n",
        "f_path = \"/home/ehmatthes/books/alice.txt\" \n",
        " \n",
        "with open(f_path) as f_obj:     \n",
        "  lines = f_obj.readlines() \n",
        "  \n",
        "#   Opening a file on Windows Windows will sometimes interpret forward slashes incorrectly. \n",
        "#   If you run into this, use backslashes in your file paths. \n",
        "f_path = \"C:\\Users\\ehmatthes\\books\\alice.txt\" \n",
        " \n",
        "with open(f_path) as f_obj:     \n",
        "  lines = f_obj.readlines()"
      ],
      "execution_count": null,
      "outputs": []
    },
    {
      "cell_type": "markdown",
      "metadata": {
        "id": "O24Ojhu64_--"
      },
      "source": [
        "# The try-except block\n",
        "When you think an error may occur, you can write a tryexcept block to handle the exception that might be raised. The try block tells Python to try running some code, and the except block tells Python what to do if the code results in a particular kind of error. "
      ]
    },
    {
      "cell_type": "code",
      "metadata": {
        "id": "WSwJIiD35DAm"
      },
      "source": [
        "# Handling the ZeroDivisionError exception \n",
        "try:     \n",
        "  print(5/0)\n",
        "except ZeroDivisionError:\n",
        "    print(\"You can't divide by zero!\") \n",
        "    \n",
        "# Handling the FileNotFoundError exception \n",
        "f_name = 'siddhartha.txt' \n",
        " \n",
        "try:    \n",
        "  with open(f_name) as f_obj:  \n",
        "    lines = f_obj.readlines() \n",
        "except FileNotFoundError:   \n",
        "  msg = \"Can't find file {0}.\".format(f_name)\n",
        "  print(msg) "
      ],
      "execution_count": null,
      "outputs": []
    },
    {
      "cell_type": "markdown",
      "metadata": {
        "id": "Dq1DRL3O5Lva"
      },
      "source": [
        "# Knowing which exception to handle\n",
        "It can be hard to know what kind of exception to handle when writing code. Try writing your code without a try block, and make it generate an error. The traceback will tell you what kind of exception your program needs to handle.\n",
        "\n",
        ">\n",
        "\n"
      ]
    },
    {
      "cell_type": "markdown",
      "metadata": {
        "id": "F9-E-bvf5144"
      },
      "source": [
        "#The else block\n",
        "The try block should only contain code that may cause an error. Any code that depends on the try block running successfully should be placed in the else block. \n"
      ]
    },
    {
      "cell_type": "code",
      "metadata": {
        "id": "FLy_mxsO59UY"
      },
      "source": [
        ""
      ],
      "execution_count": null,
      "outputs": []
    },
    {
      "cell_type": "code",
      "metadata": {
        "id": "n9ShaamEh4sE",
        "outputId": "c09e707b-8c51-4e1e-b658-7258330b765f",
        "colab": {
          "base_uri": "https://localhost:8080/",
          "height": 269
        }
      },
      "source": [
        "import matplotlib.pyplot as plt\n",
        "x_values = [0, 1, 2, 3, 4, 5]\n",
        "squares = [0, 1, 4, 9, 16, 25]\n",
        "plt.plot(x_values, squares)\n",
        "plt.show()"
      ],
      "execution_count": null,
      "outputs": [
        {
          "output_type": "display_data",
          "data": {
            "image/png": "[encoded data removed]",
            "text/plain": [
              "<Figure size 432x288 with 1 Axes>"
            ]
          },
          "metadata": {
            "tags": []
          }
        }
      ]
    },
    {
      "cell_type": "code",
      "metadata": {
        "id": "xm4jPmAGhs3V",
        "outputId": "0338f1a1-e8e4-4bde-c352-86d910707e83",
        "colab": {
          "base_uri": "https://localhost:8080/",
          "height": 316
        }
      },
      "source": [
        "import matplotlib.pyplot as plt\n",
        "x_values = list(range(1000))\n",
        "squares = [x**2 for x in x_values]\n",
        "plt.scatter(x_values, squares, s=10)\n",
        "plt.title(\"Square Numbers\", fontsize=24)\n",
        "plt.xlabel(\"Value\", fontsize=18)\n",
        "plt.ylabel(\"Square of Value\", fontsize=18)\n",
        "plt.tick_params(axis='both', which='major',\n",
        " labelsize=14)\n",
        "plt.axis([0, 1100, 0, 1100000])\n",
        "plt.show()"
      ],
      "execution_count": null,
      "outputs": [
        {
          "output_type": "display_data",
          "data": {
            "image/png": "[encoded data removed]",
            "text/plain": [
              "<Figure size 432x288 with 1 Axes>"
            ]
          },
          "metadata": {
            "tags": []
          }
        }
      ]
    },
    {
      "cell_type": "code",
      "metadata": {
        "id": "WInOF1s4QgxE",
        "outputId": "e539abde-3a3c-4c18-f974-4a63b893c8f7",
        "colab": {
          "base_uri": "https://localhost:8080/",
          "height": 363
        }
      },
      "source": [
        "import matplotlib.pyplot as plt\n",
        "x_values = list(range(1000))\n",
        "squares = [x**2 for x in x_values]\n",
        "plt.scatter(x_values, squares, c=squares,\n",
        " cmap=plt.cm.Blues, edgecolor='none',\n",
        " s=10)\n",
        "\n",
        "plt.scatter(x_values[0], squares[0], c='green',\n",
        " edgecolor='none', s=100)\n",
        "plt.scatter(x_values[-1], squares[-1], c='red',\n",
        " edgecolor='none', s=100)\n",
        "plt.title(\"Square Numbers\", fontsize=24)\n",
        "\n",
        "# Removing axes\n",
        "# You can customize or remove axes entirely. Here’s how to access\n",
        "# each axis, and hide it.\n",
        "plt.axes().get_xaxis().set_visible(False)\n",
        "plt.axes().get_yaxis().set_visible(False)\n",
        "# Setting a custom figure size\n",
        "# You can make your plot as big or small as you want. Before\n",
        "# plotting your data, add the following code. The dpi argument is\n",
        "# optional; if you don’t know your system’s resolution you can omit\n",
        "# the argument and adjust the figsize argument accordingly.\n",
        "plt.figure(dpi=128, figsize=(10, 6))\n",
        "# Saving a plot\n",
        "# The matplotlib viewer has an interactive save button, but you can\n",
        "# also save your visualizations programmatically. To do so, replace plt.show()  with plt.savefig(). \n",
        "# The bbox_inches='tight'\n",
        "# argument trims extra whitespace from the plot.\n",
        "plt.savefig('squares.png', bbox_inches='tight')"
      ],
      "execution_count": null,
      "outputs": [
        {
          "output_type": "stream",
          "text": [
            "/usr/local/lib/python3.6/dist-packages/matplotlib/figure.py:98: MatplotlibDeprecationWarning: \n",
            "Adding an axes using the same arguments as a previous axes currently reuses the earlier instance.  In a future version, a new instance will always be created and returned.  Meanwhile, this warning can be suppressed, and the future behavior ensured, by passing a unique label to each axes instance.\n",
            "  \"Adding an axes using the same arguments as a previous axes \"\n"
          ],
          "name": "stderr"
        },
        {
          "output_type": "display_data",
          "data": {
            "image/png": "[encoded data removed]",
            "text/plain": [
              "<Figure size 432x288 with 1 Axes>"
            ]
          },
          "metadata": {
            "tags": []
          }
        },
        {
          "output_type": "display_data",
          "data": {
            "text/plain": [
              "<Figure size 1280x768 with 0 Axes>"
            ]
          },
          "metadata": {
            "tags": []
          }
        }
      ]
    },
    {
      "cell_type": "code",
      "metadata": {
        "id": "OcCV7qV3D-7m",
        "outputId": "97de4afa-b67b-48d9-8826-398179a5a924",
        "colab": {
          "base_uri": "https://localhost:8080/",
          "height": 132
        }
      },
      "source": [
        "f= open(\"guru99.py\",\"w+\")\n",
        "\n",
        "\n",
        "# Writing to a file\n",
        "filename = 'journal.py'\n",
        "with open(filename, 'w') as file_object:\n",
        "    file_object.write(\"I love programing.\")\n"
      ],
      "execution_count": null,
      "outputs": [
        {
          "output_type": "error",
          "ename": "SyntaxError",
          "evalue": "ignored",
          "traceback": [
            "\u001b[0;36m  File \u001b[0;32m\"<ipython-input-85-7750ae0b1d9e>\"\u001b[0;36m, line \u001b[0;32m3\u001b[0m\n\u001b[0;31m    file_object.write(\"def make_pizza(size, *toppings):\u001b[0m\n\u001b[0m                                                       ^\u001b[0m\n\u001b[0;31mSyntaxError\u001b[0m\u001b[0;31m:\u001b[0m EOL while scanning string literal\n"
          ]
        }
      ]
    },
    {
      "cell_type": "markdown",
      "metadata": {
        "id": "tPqPXAKKkzaM"
      },
      "source": [
        "\n",
        "\n",
        "\n",
        "\n"
      ]
    },
    {
      "cell_type": "code",
      "metadata": {
        "id": "Hslng7tlNmV8"
      },
      "source": [
        "!pip install pygal\n",
        "import pygal\n",
        "x_values = list(range(11))\n",
        "squares = [x**2 for x in x_values]\n",
        "cubes = [x**3 for x in x_values]\n",
        "\n",
        "chart = pygal.Line()\n",
        "# chart.force-uri_protocl ='http'\n",
        "chart.title = \"Squared and Cubes\"\n",
        "chart.x_labels = x_values\n",
        "\n",
        "chart.add('Squaures', squares)\n",
        "chart.add('Cubes', cubes)\n",
        "chart.render_to_file('squares_cubes.svg')\n",
        "\n",
        "chart = pygal.Line(file=True, zero=0)"
      ],
      "execution_count": null,
      "outputs": []
    },
    {
      "cell_type": "markdown",
      "metadata": {
        "id": "eLmhot-MOy5q"
      },
      "source": [
        ""
      ]
    },
    {
      "cell_type": "code",
      "metadata": {
        "id": "VvLOhMCgOuSr"
      },
      "source": [
        "filename = 'programming.txt' \n",
        " \n",
        "with open(filename, 'w') as f:\n",
        "    f.write(\"I love programming!\")"
      ],
      "execution_count": null,
      "outputs": []
    }
  ]
}